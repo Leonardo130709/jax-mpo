{
 "cells": [
  {
   "cell_type": "code",
   "execution_count": 1,
   "id": "9c4945c8",
   "metadata": {},
   "outputs": [
    {
     "name": "stderr",
     "output_type": "stream",
     "text": [
      "2022-07-11 01:21:35.898994: W tensorflow/stream_executor/platform/default/dso_loader.cc:64] Could not load dynamic library 'libcudart.so.11.0'; dlerror: libcudart.so.11.0: cannot open shared object file: No such file or directory\n"
     ]
    }
   ],
   "source": [
    "from src.mpo import MPO\n",
    "from src.config import Config\n",
    "from src.utils import StatesWrapper\n",
    "from src.main import RLAlg\n",
    "\n",
    "import jax\n",
    "import jax.numpy as jnp"
   ]
  },
  {
   "cell_type": "code",
   "execution_count": 2,
   "id": "fb2ba7bc",
   "metadata": {},
   "outputs": [],
   "source": [
    "config = Config()"
   ]
  },
  {
   "cell_type": "code",
   "execution_count": 3,
   "id": "5e5f7e76",
   "metadata": {},
   "outputs": [
    {
     "name": "stderr",
     "output_type": "stream",
     "text": [
      "WARNING:absl:No GPU/TPU found, falling back to CPU. (Set TF_CPP_MIN_LOG_LEVEL=0 and rerun for more info.)\n"
     ]
    }
   ],
   "source": [
    "alg = RLAlg(config)"
   ]
  },
  {
   "cell_type": "code",
   "execution_count": null,
   "id": "630d46b4",
   "metadata": {},
   "outputs": [
    {
     "name": "stdout",
     "output_type": "stream",
     "text": [
      "1000 173.55145987375133\n",
      "2000 183.72192875443437\n",
      "3000 203.83675909884576\n",
      "4000 164.7547055191241\n",
      "5000 165.8869544304333\n",
      "6000 168.0905097361224\n",
      "7000 170.8500586283998\n",
      "8000 168.0086060788875\n",
      "9000 154.66899072332373\n",
      "10000 153.79381708652886\n",
      "11000 155.16223305941736\n",
      "12000 154.64556874645865\n"
     ]
    }
   ],
   "source": [
    "alg.learn()"
   ]
  },
  {
   "cell_type": "code",
   "execution_count": 6,
   "id": "9655facf",
   "metadata": {
    "scrolled": false
   },
   "outputs": [
    {
     "name": "stderr",
     "output_type": "stream",
     "text": [
      "WARNING:absl:No GPU/TPU found, falling back to CPU. (Set TF_CPP_MIN_LOG_LEVEL=0 and rerun for more info.)\n"
     ]
    }
   ],
   "source": [
    "agent = MPO(config, env, jax.random.PRNGKey(0))"
   ]
  },
  {
   "cell_type": "code",
   "execution_count": 7,
   "id": "f1af21eb",
   "metadata": {},
   "outputs": [],
   "source": [
    "batch_size = 10\n",
    "state_dim = env.observation_spec().shape[0]\n",
    "act_dim = env.action_spec().shape[0]\n",
    "states = jnp.zeros((batch_size, state_dim))\n",
    "next_states = states.copy()\n",
    "rewards = jnp.zeros(batch_size)\n",
    "dones = jnp.zeros(batch_size)\n",
    "actions = jnp.zeros((batch_size, act_dim))"
   ]
  },
  {
   "cell_type": "code",
   "execution_count": 11,
   "id": "c00b28a6",
   "metadata": {
    "scrolled": false
   },
   "outputs": [],
   "source": [
    "a, m = agent.step(agent._state, states, actions, rewards, dones, next_states)"
   ]
  },
  {
   "cell_type": "code",
   "execution_count": 12,
   "id": "cb265359",
   "metadata": {},
   "outputs": [
    {
     "data": {
      "text/plain": [
       "DeviceArray([[ 0.0877028 ],\n",
       "             [-0.77177817],\n",
       "             [ 0.73859763],\n",
       "             [-0.293001  ],\n",
       "             [ 0.11800329],\n",
       "             [ 0.8216625 ],\n",
       "             [-0.5327988 ],\n",
       "             [ 0.32987893],\n",
       "             [ 0.90653205],\n",
       "             [-0.3812525 ]], dtype=float32)"
      ]
     },
     "execution_count": 12,
     "metadata": {},
     "output_type": "execute_result"
    }
   ],
   "source": [
    "agent.act(states, True)"
   ]
  }
 ],
 "metadata": {
  "kernelspec": {
   "display_name": "Python 3 (ipykernel)",
   "language": "python",
   "name": "python3"
  },
  "language_info": {
   "codemirror_mode": {
    "name": "ipython",
    "version": 3
   },
   "file_extension": ".py",
   "mimetype": "text/x-python",
   "name": "python",
   "nbconvert_exporter": "python",
   "pygments_lexer": "ipython3",
   "version": "3.10.4"
  }
 },
 "nbformat": 4,
 "nbformat_minor": 5
}
