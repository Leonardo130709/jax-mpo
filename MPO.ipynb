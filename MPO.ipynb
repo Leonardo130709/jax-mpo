{
 "cells": [
  {
   "cell_type": "code",
   "execution_count": null,
   "id": "9c4945c8",
   "metadata": {},
   "outputs": [],
   "source": [
    "# import os\n",
    "# os.environ['XLA_FLAGS'] ='--xla_gpu_force_compilation_parallelism=1'\n",
    "import jax\n",
    "jax.config.update('jax_platform_name', 'cpu')\n",
    "\n",
    "import jax\n",
    "import jax.numpy as jnp\n",
    "\n",
    "from src.mpo import MPO\n",
    "from src.config import Config\n",
    "from src.utils import StatesWrapper\n",
    "from src.main import RLAlg"
   ]
  },
  {
   "cell_type": "code",
   "execution_count": null,
   "id": "fb2ba7bc",
   "metadata": {},
   "outputs": [],
   "source": [
    "config = Config()"
   ]
  },
  {
   "cell_type": "code",
   "execution_count": null,
   "id": "5e5f7e76",
   "metadata": {
    "scrolled": false
   },
   "outputs": [],
   "source": [
    "alg = RLAlg(config)"
   ]
  },
  {
   "cell_type": "code",
   "execution_count": null,
   "id": "9cda7fd0",
   "metadata": {
    "scrolled": false
   },
   "outputs": [],
   "source": [
    "alg.learn()"
   ]
  }
 ],
 "metadata": {
  "kernelspec": {
   "display_name": "Python 3 (ipykernel)",
   "language": "python",
   "name": "python3"
  },
  "language_info": {
   "codemirror_mode": {
    "name": "ipython",
    "version": 3
   },
   "file_extension": ".py",
   "mimetype": "text/x-python",
   "name": "python",
   "nbconvert_exporter": "python",
   "pygments_lexer": "ipython3",
   "version": "3.10.4"
  }
 },
 "nbformat": 4,
 "nbformat_minor": 5
}
